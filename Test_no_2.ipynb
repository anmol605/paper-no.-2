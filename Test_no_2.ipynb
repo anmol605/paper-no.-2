{
  "nbformat": 4,
  "nbformat_minor": 0,
  "metadata": {
    "colab": {
      "provenance": []
    },
    "kernelspec": {
      "name": "python3",
      "display_name": "Python 3"
    },
    "language_info": {
      "name": "python"
    }
  },
  "cells": [
    {
      "cell_type": "code",
      "execution_count": null,
      "metadata": {
        "id": "x_mSy5t2Wk4Z"
      },
      "outputs": [],
      "source": []
    },
    {
      "cell_type": "markdown",
      "source": [
        "#Data Types and Structures Questions\n"
      ],
      "metadata": {
        "id": "m9muS4hMWqjH"
      }
    },
    {
      "cell_type": "markdown",
      "source": [
        " 1. What are data structures, and why are they important?\n",
        "    Data structures are ways of organizing and storing data to enable efficient access and modification. They’re important because they determine how data is used and optimized in algorithms and programs.\n",
        "\n",
        "\n",
        "2. Difference Between Mutable and Immutable Data Types:\n",
        "\t•\tMutable: Can be changed after creation.\n",
        "    Example: list, dict, set\n",
        "    lst = [1, 2, 3]\n",
        "    lst.append(4)  # modifies the list\n",
        "   \n",
        "    Immutable data types cannot be changed after creation.\n",
        "    Example: int, str, tuple\n",
        "    s = \"hello\"\n",
        "    s[0] = \"H\"  # raises TypeError\n",
        "\n",
        "3. What are the main differences between lists and tuples in Python?\n",
        "   \n",
        "    List vs Tuple in Python (Pointer Form)\n",
        "\n",
        "    🔸 Syntax:\n",
        "\n",
        "    List: [] → my_list = [1, 2, 3]\n",
        "\n",
        "    Tuple: () → my_tuple = (1, 2, 3)\n",
        "\n",
        "\n",
        "    🔸 Mutability:\n",
        "\n",
        "    List: ✅ Mutable (can be changed)\n",
        "\n",
        "    Tuple: ❌ Immutable (cannot be changed)\n",
        "\n",
        "\n",
        "    🔸 Performance:\n",
        "\n",
        "    List: Slightly slower\n",
        "\n",
        "    Tuple: Faster due to immutability\n",
        "\n",
        "\n",
        "    🔸 Methods:\n",
        "\n",
        "    List: Many built-in methods (append(), remove(), etc.)\n",
        "\n",
        "    Tuple: Limited methods (count(), index())\n",
        "\n",
        "\n",
        "    🔸 Use Case:\n",
        "\n",
        "    List: When data needs to change\n",
        "\n",
        "    Tuple: When data should stay constant\n",
        "\n",
        "\n",
        "    🔸 Memory Usage:\n",
        "\n",
        "    List: More memory\n",
        "\n",
        "    Tuple: Less memory\n",
        "\n",
        "\n",
        "    🔸 Can be Dictionary Key:\n",
        "\n",
        "    List: ❌ No\n",
        "\n",
        "    Tuple: ✅ Yes (if elements are also immutable)\n",
        "\n",
        "\n",
        "\n",
        "\n",
        "4. Describe how dictionaries store data.\n",
        "   \n",
        "    Dictionaries store data in key-value pairs using a hash table. Each key is hashed to determine its index in an internal array. This enables O(1) average-case time complexity for lookups.\n",
        "\n",
        "5. Why might you use a set instead of a list in Python?\n",
        "   \n",
        "    Sets automatically remove duplicates.\n",
        "    They offer faster membership testing (average O(1) vs O(n) for lists).\n",
        "\n",
        "6. What is a string in Python, and how is it different from a list?\n",
        "\n",
        "    A string is an immutable sequence of characters.\n",
        "    Differences from a list:\n",
        "\n",
        "    Cannot be changed after creation.\n",
        "\n",
        "    Specifically holds characters, not mixed types.\n",
        "\n",
        "    s = \"hello\"   # immutable\n",
        "    lst = ['h', 'e', 'l', 'l', 'o']  # mutable\n",
        "\n",
        "7. How do tuples ensure data integrity in Python?\n",
        "\n",
        "    Because tuples are immutable, their data can't be changed after creation. This ensures the data stays constant, which is useful for fixed configurations or as keys in dictionaries.\n",
        "\n",
        "8. What is a hash table, and how does it relate to dictionaries in Python?\n",
        "   \n",
        "    A hash table is a data structure that maps keys to values using a hash function.\n",
        "    Python’s dict uses a hash table under the hood, enabling fast lookups and inserts.\n",
        "\n",
        "9. Can lists contain different data types in Python?\n",
        "\n",
        "    Yes. Python lists are heterogeneous, meaning they can store different types:\n",
        "\n",
        "    my_list = [1, \"hello\", 3.14, [1, 2]]\n",
        "\n",
        "10. Explain why strings are immutable in Python.\n",
        "Strings are immutable for:\n",
        "\n",
        "    Efficiency (shared references are safe).\n",
        "\n",
        "    Security (can’t be changed unexpectedly).\n",
        "\n",
        "    Hashing (used as dict keys, so must be hashable).\n",
        "\n",
        "11. What advantages do dictionaries offer over lists for certain tasks?\n",
        "Faster lookups (O(1) vs O(n)).\n",
        "\n",
        "    Named data access via keys instead of indices.\n",
        "\n",
        "    Useful when data is associative, like a phone book.\n",
        "\n",
        "12. Describe a scenario where using a tuple would be preferable over a list.\n",
        "    Use a tuple when storing coordinates (x, y), or passing constant configuration values that should not change:\n",
        "    point = (10, 20)  # ensures integrity\n",
        "\n",
        "13. How do sets handle duplicate values in Python?\n",
        "    Sets automatically discard duplicates:\n",
        "    s = {1, 2, 2, 3}\n",
        "print(s)  # Output: {1, 2, 3}\n",
        "\n",
        "14. How does the \"in\" keyword work differently for lists and dictionaries?\n",
        "    In lists, it checks for element presence (linear search).\n",
        "\n",
        "    In dicts, it checks for key presence (constant time via hashing).\n",
        "    3 in [1, 2, 3]         # True\n",
        "    'key' in {'key': 1}    # True\n",
        "\n",
        "15. Can you modify the elements of a tuple? Explain why or why not.\n",
        "    No. Tuples are immutable. You can’t add, remove, or change elements once created. This design helps maintain data consistency.\n",
        "\n",
        "16. What is a nested dictionary, and give an example of its use case?\n",
        "    A nested dictionary is a dict within another dict.\n",
        "    Use case: storing data about students.\n",
        "    students = {\n",
        "    \"Alice\": {\"age\": 20, \"grade\": \"A\"},\n",
        "    \"Bob\": {\"age\": 22, \"grade\": \"B\"}\n",
        "}\n",
        "\n",
        "17. Describe the time complexity of accessing elements in a dictionary.\n",
        "    Average case: O(1) due to hashing.\n",
        "\n",
        "    Worst case: O(n), if hash collisions occur (rare).\n",
        "\n",
        "18. In what situations are lists preferred over dictionaries?\n",
        "\n",
        "    When order matters (especially before Python 3.7).\n",
        "\n",
        "    When indexing by position is required.\n",
        "\n",
        "    For simple sequences of data without named keys.\n",
        "\n",
        "19. Why are dictionaries considered unordered, and how does that affect data retrieval?\n",
        "    \n",
        "    Before Python 3.7, dicts did not maintain insertion order. Now they do, but conceptually, dicts are still about key-based access, not positional access. So, retrieving data by order isn't their primary purpose.    \n",
        "\n",
        "20. Explain the difference between a list and a dictionary in terms of data retrieval.\n",
        "\n",
        "    List: Retrieves data by index (position).\n",
        "\n",
        "    Dictionary: Retrieves data by key (name/identifier), which is generally faster and more descriptive.    "
      ],
      "metadata": {
        "id": "gqRZwil2WxUI"
      }
    },
    {
      "cell_type": "code",
      "source": [
        "#Practical Questions\n",
        "\n",
        "\n"
      ],
      "metadata": {
        "id": "PUwrUqM8YfFG"
      },
      "execution_count": null,
      "outputs": []
    },
    {
      "cell_type": "code",
      "source": [
        "# 1. Create a string with your name and print it\n",
        "# Create a string with your name\n",
        "my_name = \"jatt\"\n",
        "\n",
        "# Print the string\n",
        "print(\"My name is:\", my_name)"
      ],
      "metadata": {
        "colab": {
          "base_uri": "https://localhost:8080/"
        },
        "id": "sCtWfjexehDg",
        "outputId": "e4d2255d-1a78-4dd2-c11f-459520d2422f"
      },
      "execution_count": 6,
      "outputs": [
        {
          "output_type": "stream",
          "name": "stdout",
          "text": [
            "My name is: jatt\n"
          ]
        }
      ]
    },
    {
      "cell_type": "code",
      "source": [
        "# 2. Find the length of the string \"Hello World\"\n",
        " # Define the string\n",
        "text = \"Hello World\"\n",
        "\n",
        "# Find the length of the string\n",
        "length = len(text)\n",
        "\n",
        "# Print the length\n",
        "print(\"The length of the string is:\", length)"
      ],
      "metadata": {
        "colab": {
          "base_uri": "https://localhost:8080/"
        },
        "id": "CNAM-dhCetEk",
        "outputId": "54c12081-fab1-4663-897b-08e8eb9814f5"
      },
      "execution_count": 7,
      "outputs": [
        {
          "output_type": "stream",
          "name": "stdout",
          "text": [
            "The length of the string is: 11\n"
          ]
        }
      ]
    },
    {
      "cell_type": "code",
      "source": [
        "# 3. Slice the first 3 characters from the string \"Python Programming\"\n",
        "# Define the string\n",
        "text = \"Python Programming \"\n",
        "\n",
        "# Slice the first 3 characters\n",
        "first_three = text[:3]\n",
        "\n",
        "# Print the result\n",
        "print(\"The first 3 characters are:\", first_three)"
      ],
      "metadata": {
        "colab": {
          "base_uri": "https://localhost:8080/"
        },
        "id": "fUD3GuIFe-QU",
        "outputId": "f36cbb8b-e4eb-43d7-d4c5-1488f3fcba34"
      },
      "execution_count": 8,
      "outputs": [
        {
          "output_type": "stream",
          "name": "stdout",
          "text": [
            "The first 3 characters are: Pyt\n"
          ]
        }
      ]
    },
    {
      "cell_type": "code",
      "source": [
        "# 4. Convert the string \"hello\" to uppercase\n",
        "# Define the string\n",
        "text = \"hello\"\n",
        "\n",
        "# Convert to uppercase\n",
        "uppercase_text = text.upper()\n",
        "\n",
        "# Print the result\n",
        "print(\"Uppercase version:\", uppercase_text)"
      ],
      "metadata": {
        "colab": {
          "base_uri": "https://localhost:8080/"
        },
        "id": "le6c4d85fNla",
        "outputId": "98385d6f-3d4d-49e5-fef6-2902371b6bfd"
      },
      "execution_count": 9,
      "outputs": [
        {
          "output_type": "stream",
          "name": "stdout",
          "text": [
            "Uppercase version: HELLO\n"
          ]
        }
      ]
    },
    {
      "cell_type": "code",
      "source": [
        "# 5. Replace the word \"apple\" with \"orange\" in the string \"apple\"\n",
        "# Define the string\n",
        "text = \"I like apple \"\n",
        "\n",
        "# Replace \"apple\" with \"orange\"\n",
        "new_text = text.replace(\"apple\", \"orange\")\n",
        "\n",
        "# Print the result\n",
        "print(\"Updated string:\", new_text)"
      ],
      "metadata": {
        "colab": {
          "base_uri": "https://localhost:8080/"
        },
        "id": "S8UgFt6tfVa1",
        "outputId": "3cd187e4-ea9b-4540-c372-b3e72e1eb3fb"
      },
      "execution_count": 10,
      "outputs": [
        {
          "output_type": "stream",
          "name": "stdout",
          "text": [
            "Updated string: I like orange \n"
          ]
        }
      ]
    },
    {
      "cell_type": "code",
      "source": [
        "# 6. Create a list with numbers 1 to 5 and print it\n",
        "# Create a list with numbers from 1 to 5\n",
        "numbers = [1, 2, 3, 4, 5]\n",
        "\n",
        "# Print the list\n",
        "print(\"The list is:\", numbers)"
      ],
      "metadata": {
        "colab": {
          "base_uri": "https://localhost:8080/"
        },
        "id": "IJ4-S2_IfdEO",
        "outputId": "36b72b1f-1aa4-4642-e61b-cbbb9d802099"
      },
      "execution_count": 11,
      "outputs": [
        {
          "output_type": "stream",
          "name": "stdout",
          "text": [
            "The list is: [1, 2, 3, 4, 5]\n"
          ]
        }
      ]
    },
    {
      "cell_type": "code",
      "source": [
        "# 7. Append the number 10 to the list [1, 2, 3, 4]\n",
        "# Define the list\n",
        "numbers = [1, 2, 3, 4]\n",
        "\n",
        "# Append 10 to the list\n",
        "numbers.append(10)\n",
        "\n",
        "# Print the updated list\n",
        "print(\"Updated list:\", numbers)"
      ],
      "metadata": {
        "colab": {
          "base_uri": "https://localhost:8080/"
        },
        "id": "8aZRCoI8fnl9",
        "outputId": "9f084c8f-562a-4890-9701-f38705d42311"
      },
      "execution_count": 12,
      "outputs": [
        {
          "output_type": "stream",
          "name": "stdout",
          "text": [
            "Updated list: [1, 2, 3, 4, 10]\n"
          ]
        }
      ]
    },
    {
      "cell_type": "code",
      "source": [
        "# 8. Remove the number 3 from the list [1, 2, 3, 4, 5]\n",
        "# Define the list\n",
        "numbers = [1, 2, 3, 4, 5]\n",
        "\n",
        "# Remove the number 3 from the list\n",
        "numbers.remove(3)\n",
        "\n",
        "# Print the updated list\n",
        "print(\"Updated list:\", numbers)"
      ],
      "metadata": {
        "colab": {
          "base_uri": "https://localhost:8080/"
        },
        "id": "oUerNrF8fyZz",
        "outputId": "0540d87f-8975-4d52-edb2-1276011f952a"
      },
      "execution_count": 13,
      "outputs": [
        {
          "output_type": "stream",
          "name": "stdout",
          "text": [
            "Updated list: [1, 2, 4, 5]\n"
          ]
        }
      ]
    },
    {
      "cell_type": "code",
      "source": [
        "# 9. Access the second element in the list ['a', 'b', 'c', 'd']\n",
        "# Define the list\n",
        "letters = ['a', 'b', 'c', 'd']\n",
        "\n",
        "# Access the second element (index 1)\n",
        "second_element = letters[1]\n",
        "\n",
        "# Print the second element\n",
        "print(\"The second element is:\", second_element)"
      ],
      "metadata": {
        "colab": {
          "base_uri": "https://localhost:8080/"
        },
        "id": "dOdYPjjpf7yN",
        "outputId": "1fe82a12-7aff-4f3e-d696-1bdca48b7c29"
      },
      "execution_count": 14,
      "outputs": [
        {
          "output_type": "stream",
          "name": "stdout",
          "text": [
            "The second element is: b\n"
          ]
        }
      ]
    },
    {
      "cell_type": "code",
      "source": [
        "# 10. Reverse the list [10, 20, 30, 40, 50]\n",
        "# Define the list\n",
        "numbers = [10, 20, 30, 40, 50]\n",
        "\n",
        "# Reverse the list\n",
        "numbers.reverse()\n",
        "\n",
        "# Print the reversed list\n",
        "print(\"Reversed list:\", numbers)"
      ],
      "metadata": {
        "colab": {
          "base_uri": "https://localhost:8080/"
        },
        "id": "UByL9bfmgG26",
        "outputId": "34f014a1-61bb-4fb7-fc82-7d32837f4469"
      },
      "execution_count": 15,
      "outputs": [
        {
          "output_type": "stream",
          "name": "stdout",
          "text": [
            "Reversed list: [50, 40, 30, 20, 10]\n"
          ]
        }
      ]
    },
    {
      "cell_type": "code",
      "source": [
        "# 11. Create a tuple and print it\n",
        "tuple1 = (100, 200, 300)\n",
        "print(\"Tuple:\", tuple1)\n"
      ],
      "metadata": {
        "colab": {
          "base_uri": "https://localhost:8080/"
        },
        "id": "1WaaDD7ogTp0",
        "outputId": "9f1831bd-0043-49bc-a077-dd10b492f0d9"
      },
      "execution_count": 16,
      "outputs": [
        {
          "output_type": "stream",
          "name": "stdout",
          "text": [
            "Tuple: (100, 200, 300)\n"
          ]
        }
      ]
    },
    {
      "cell_type": "code",
      "source": [
        "# 12. Access the second-to-last element\n",
        "colors = ('red', 'green', 'blue', 'yellow')\n",
        "print(\"Second-to-last element:\", colors[-2])"
      ],
      "metadata": {
        "colab": {
          "base_uri": "https://localhost:8080/"
        },
        "id": "Bh-hnubfgabn",
        "outputId": "682dbc46-0450-4060-8a50-4e42873fe227"
      },
      "execution_count": 17,
      "outputs": [
        {
          "output_type": "stream",
          "name": "stdout",
          "text": [
            "Second-to-last element: blue\n"
          ]
        }
      ]
    },
    {
      "cell_type": "code",
      "source": [
        "# 13. Find the minimum number in a tuple\n",
        "numbers = (10, 20, 5, 15)\n",
        "print(\"Minimum number:\", min(numbers))"
      ],
      "metadata": {
        "colab": {
          "base_uri": "https://localhost:8080/"
        },
        "id": "gIdVccjsgfT-",
        "outputId": "1ab723ca-c5f8-433d-d69b-b26bf7c0f513"
      },
      "execution_count": 18,
      "outputs": [
        {
          "output_type": "stream",
          "name": "stdout",
          "text": [
            "Minimum number: 5\n"
          ]
        }
      ]
    },
    {
      "cell_type": "code",
      "source": [
        "# 14. Find the index of \"cat\"\n",
        "animals = ('dog', 'cat', 'rabbit')\n",
        "print(\"Index of 'cat':\", animals.index('cat'))"
      ],
      "metadata": {
        "colab": {
          "base_uri": "https://localhost:8080/"
        },
        "id": "4ZRn7bj9gi_e",
        "outputId": "090a283e-b991-4922-fb64-ef43fbc059bd"
      },
      "execution_count": 19,
      "outputs": [
        {
          "output_type": "stream",
          "name": "stdout",
          "text": [
            "Index of 'cat': 1\n"
          ]
        }
      ]
    },
    {
      "cell_type": "code",
      "source": [
        "# 15. Check if \"kiwi\" is in a tuple of fruits\n",
        "fruits = ('apple', 'banana', 'orange')\n",
        "print(\"Is 'kiwi' in the tuple?\", 'kiwi' in fruits)"
      ],
      "metadata": {
        "colab": {
          "base_uri": "https://localhost:8080/"
        },
        "id": "pO2iyvOpgoYh",
        "outputId": "6903b4dc-b80e-4f66-c672-78d28426bb20"
      },
      "execution_count": 20,
      "outputs": [
        {
          "output_type": "stream",
          "name": "stdout",
          "text": [
            "Is 'kiwi' in the tuple? False\n"
          ]
        }
      ]
    },
    {
      "cell_type": "code",
      "source": [
        "\n",
        "# 16. Create a set and print it\n",
        "my_set = {'a', 'b', 'c'}\n",
        "print(\"Set:\", my_set)"
      ],
      "metadata": {
        "colab": {
          "base_uri": "https://localhost:8080/"
        },
        "id": "I_2zwKa6gsXP",
        "outputId": "f73553b5-7d73-46a0-8d62-54f80da4ae84"
      },
      "execution_count": 21,
      "outputs": [
        {
          "output_type": "stream",
          "name": "stdout",
          "text": [
            "Set: {'b', 'a', 'c'}\n"
          ]
        }
      ]
    },
    {
      "cell_type": "code",
      "source": [
        "# 17. Clear all elements from a set\n",
        "set_to_clear = {1, 2, 3, 4, 5}\n",
        "set_to_clear.clear()\n",
        "print(\"Cleared set:\", set_to_clear)"
      ],
      "metadata": {
        "colab": {
          "base_uri": "https://localhost:8080/"
        },
        "id": "8xxErOhfgvsD",
        "outputId": "2b90d70d-49ec-4f07-92b1-5766f01cff1d"
      },
      "execution_count": 22,
      "outputs": [
        {
          "output_type": "stream",
          "name": "stdout",
          "text": [
            "Cleared set: set()\n"
          ]
        }
      ]
    },
    {
      "cell_type": "code",
      "source": [
        "# 18. Remove element 4 from a set\n",
        "set_to_remove = {1, 2, 3, 4}\n",
        "set_to_remove.remove(4)\n",
        "print(\"Set after removing 4:\", set_to_remove)"
      ],
      "metadata": {
        "colab": {
          "base_uri": "https://localhost:8080/"
        },
        "id": "VhqROiH3gzI3",
        "outputId": "960fe25c-01fe-4eb0-917e-b436010c5c69"
      },
      "execution_count": 23,
      "outputs": [
        {
          "output_type": "stream",
          "name": "stdout",
          "text": [
            "Set after removing 4: {1, 2, 3}\n"
          ]
        }
      ]
    },
    {
      "cell_type": "code",
      "source": [
        "# 19. Union of two sets\n",
        "set1 = {1, 2, 3}\n",
        "set2 = {3, 4, 5}\n",
        "print(\"Union:\", set1.union(set2))"
      ],
      "metadata": {
        "colab": {
          "base_uri": "https://localhost:8080/"
        },
        "id": "nxYro1Hzg3Hr",
        "outputId": "eb801112-d37a-4ba7-da4e-2a81cf9de9fe"
      },
      "execution_count": 24,
      "outputs": [
        {
          "output_type": "stream",
          "name": "stdout",
          "text": [
            "Union: {1, 2, 3, 4, 5}\n"
          ]
        }
      ]
    },
    {
      "cell_type": "code",
      "source": [
        "# 20. Intersection of two sets\n",
        "set3 = {1, 2, 3}\n",
        "set4 = {2, 3, 4}\n",
        "print(\"Intersection:\", set3.intersection(set4))"
      ],
      "metadata": {
        "colab": {
          "base_uri": "https://localhost:8080/"
        },
        "id": "vAhpX0Ptg6za",
        "outputId": "dcf44553-5f27-4f0d-8b82-92a8134ba5cd"
      },
      "execution_count": 25,
      "outputs": [
        {
          "output_type": "stream",
          "name": "stdout",
          "text": [
            "Intersection: {2, 3}\n"
          ]
        }
      ]
    },
    {
      "cell_type": "code",
      "source": [
        "# 21. Create a dictionary and print it\n",
        "person = {\"name\": \"Alice\", \"age\": 30, \"city\": \"London\"}\n",
        "print(\"Dictionary:\", person)"
      ],
      "metadata": {
        "colab": {
          "base_uri": "https://localhost:8080/"
        },
        "id": "gezWUuAEg-zX",
        "outputId": "4df27299-3dd2-457a-c6cb-54af99532732"
      },
      "execution_count": 26,
      "outputs": [
        {
          "output_type": "stream",
          "name": "stdout",
          "text": [
            "Dictionary: {'name': 'Alice', 'age': 30, 'city': 'London'}\n"
          ]
        }
      ]
    },
    {
      "cell_type": "code",
      "source": [
        "# 22. Add a new key-value pair\n",
        "person2 = {'name': 'John', 'age': 25}\n",
        "person2['country'] = 'USA'\n",
        "print(\"Updated dictionary:\", person2)"
      ],
      "metadata": {
        "colab": {
          "base_uri": "https://localhost:8080/"
        },
        "id": "4jwFQpRjhB7D",
        "outputId": "a43ebe25-6443-41e2-c4af-adee1af094c7"
      },
      "execution_count": 27,
      "outputs": [
        {
          "output_type": "stream",
          "name": "stdout",
          "text": [
            "Updated dictionary: {'name': 'John', 'age': 25, 'country': 'USA'}\n"
          ]
        }
      ]
    },
    {
      "cell_type": "code",
      "source": [
        "# 23. Access value by key\n",
        "person3 = {'name': 'Alice', 'age': 30}\n",
        "print(\"Value for key 'name':\", person3['name'])"
      ],
      "metadata": {
        "colab": {
          "base_uri": "https://localhost:8080/"
        },
        "id": "FPZnpAkbhGLz",
        "outputId": "dd9e174d-abb8-4da7-fe88-99f5d80266af"
      },
      "execution_count": 28,
      "outputs": [
        {
          "output_type": "stream",
          "name": "stdout",
          "text": [
            "Value for key 'name': Alice\n"
          ]
        }
      ]
    },
    {
      "cell_type": "code",
      "source": [
        "# 24. Remove key \"age\"\n",
        "person4 = {'name': 'Bob', 'age': 22, 'city': 'New York'}\n",
        "del person4['age']\n",
        "print(\"Dictionary after removing 'age':\", person4)"
      ],
      "metadata": {
        "colab": {
          "base_uri": "https://localhost:8080/"
        },
        "id": "LtUFA7l0hJMp",
        "outputId": "4160fb61-dad3-4aaf-fd72-b2f937f9d9c0"
      },
      "execution_count": 29,
      "outputs": [
        {
          "output_type": "stream",
          "name": "stdout",
          "text": [
            "Dictionary after removing 'age': {'name': 'Bob', 'city': 'New York'}\n"
          ]
        }
      ]
    },
    {
      "cell_type": "code",
      "source": [
        "# 25. Check if key \"city\" exists\n",
        "person5 = {'name': 'Alice', 'city': 'Paris'}\n",
        "print(\"Does 'city' exist?\", 'city' in person5)"
      ],
      "metadata": {
        "colab": {
          "base_uri": "https://localhost:8080/"
        },
        "id": "Xp97L51FhMy9",
        "outputId": "59db2966-aa42-4cbc-f5d5-a005c0834a5d"
      },
      "execution_count": 30,
      "outputs": [
        {
          "output_type": "stream",
          "name": "stdout",
          "text": [
            "Does 'city' exist? True\n"
          ]
        }
      ]
    },
    {
      "cell_type": "code",
      "source": [
        "# 26. Create and print list, tuple, dictionary\n",
        "my_list = [1, 2, 3]\n",
        "my_tuple = (4, 5, 6)\n",
        "my_dict = {\"a\": 1, \"b\": 2}\n",
        "print(\"List:\", my_list)\n",
        "print(\"Tuple:\", my_tuple)\n",
        "print(\"Dictionary:\", my_dict)"
      ],
      "metadata": {
        "colab": {
          "base_uri": "https://localhost:8080/"
        },
        "id": "72K5GcWXhQaY",
        "outputId": "b6073eb0-0103-4544-d95d-54649887f8b6"
      },
      "execution_count": 31,
      "outputs": [
        {
          "output_type": "stream",
          "name": "stdout",
          "text": [
            "List: [1, 2, 3]\n",
            "Tuple: (4, 5, 6)\n",
            "Dictionary: {'a': 1, 'b': 2}\n"
          ]
        }
      ]
    },
    {
      "cell_type": "code",
      "source": [
        "# 27. List of 5 random numbers, sorted\n",
        "import random\n",
        "rand_list = random.sample(range(1, 101), 5)\n",
        "rand_list.sort()\n",
        "print(\"Sorted random list:\", rand_list)"
      ],
      "metadata": {
        "colab": {
          "base_uri": "https://localhost:8080/"
        },
        "id": "3nzAaxqrhT7L",
        "outputId": "5671139e-a65e-4396-b298-b8b46d6a9ea5"
      },
      "execution_count": 32,
      "outputs": [
        {
          "output_type": "stream",
          "name": "stdout",
          "text": [
            "Sorted random list: [9, 33, 41, 45, 75]\n"
          ]
        }
      ]
    },
    {
      "cell_type": "code",
      "source": [
        "# 28. Access string at index 3\n",
        "string_list = [\"apple\", \"banana\", \"cherry\", \"date\", \"fig\"]\n",
        "print(\"Element at index 3:\", string_list[3])"
      ],
      "metadata": {
        "colab": {
          "base_uri": "https://localhost:8080/"
        },
        "id": "wbAYzhbAhYQI",
        "outputId": "171e361c-ac60-4480-8bbd-e61a133162ee"
      },
      "execution_count": 35,
      "outputs": [
        {
          "output_type": "stream",
          "name": "stdout",
          "text": [
            "Element at index 3: date\n"
          ]
        }
      ]
    },
    {
      "cell_type": "code",
      "source": [
        "# 29. Combine two dictionaries\n",
        "dict1 = {\"x\": 1, \"y\": 2}\n",
        "dict2 = {\"y\": 3, \"z\": 4}\n",
        "combined_dict = {**dict1, **dict2}\n",
        "print(\"Combined dictionary:\", combined_dict)"
      ],
      "metadata": {
        "colab": {
          "base_uri": "https://localhost:8080/"
        },
        "id": "j_F5QYfOhbYY",
        "outputId": "f1b3a81b-1e5a-4552-9764-d5e5fa948659"
      },
      "execution_count": 34,
      "outputs": [
        {
          "output_type": "stream",
          "name": "stdout",
          "text": [
            "Combined dictionary: {'x': 1, 'y': 3, 'z': 4}\n"
          ]
        }
      ]
    },
    {
      "cell_type": "code",
      "source": [
        "# 30. Convert list of strings to set\n",
        "string_list2 = [\"apple\", \"banana\", \"cherry\", \"apple\"]\n",
        "string_set = set(string_list2)\n",
        "print(\"Set from list:\", string_set)"
      ],
      "metadata": {
        "colab": {
          "base_uri": "https://localhost:8080/"
        },
        "id": "-ifRWzdchhW9",
        "outputId": "0f785192-288f-431c-c1c1-d4cbc6d20170"
      },
      "execution_count": 36,
      "outputs": [
        {
          "output_type": "stream",
          "name": "stdout",
          "text": [
            "Set from list: {'apple', 'banana', 'cherry'}\n"
          ]
        }
      ]
    },
    {
      "cell_type": "code",
      "source": [],
      "metadata": {
        "id": "fIkSE_WShmJV"
      },
      "execution_count": null,
      "outputs": []
    }
  ]
}